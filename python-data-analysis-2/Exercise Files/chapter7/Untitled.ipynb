{
 "cells": [
  {
   "cell_type": "code",
   "execution_count": 5,
   "metadata": {},
   "outputs": [],
   "source": [
    "import math\n",
    "import collections\n",
    "\n",
    "import numpy as np\n",
    "import pandas as pd\n",
    "import matplotlib.pyplot as pp\n",
    "\n",
    "%matplotlib inline"
   ]
  },
  {
   "cell_type": "code",
   "execution_count": 6,
   "metadata": {},
   "outputs": [],
   "source": [
    "pd.options.display.max_rows = 10"
   ]
  },
  {
   "cell_type": "code",
   "execution_count": 7,
   "metadata": {},
   "outputs": [],
   "source": [
    "allyears = pd.read_csv('allyears.csv.gz')"
   ]
  },
  {
   "cell_type": "code",
   "execution_count": 39,
   "metadata": {},
   "outputs": [
    {
     "data": {
      "text/plain": [
       "sex  name     \n",
       "F    Aabha        35\n",
       "     Aabidah       5\n",
       "     Aabriella    38\n",
       "     Aada         13\n",
       "     Aadaya        8\n",
       "                  ..\n",
       "M    Zyus         11\n",
       "     Zyvion        5\n",
       "     Zyvon         7\n",
       "     Zyyon         6\n",
       "     Zzyzx        10\n",
       "Name: number, Length: 109173, dtype: int64"
      ]
     },
     "execution_count": 39,
     "metadata": {},
     "output_type": "execute_result"
    }
   ],
   "source": [
    "allyears.groupby(['sex', 'name']).number.sum()"
   ]
  },
  {
   "cell_type": "code",
   "execution_count": 42,
   "metadata": {},
   "outputs": [],
   "source": [
    "totals = allyears.groupby(['sex', 'name']).number.sum()"
   ]
  },
  {
   "cell_type": "code",
   "execution_count": 43,
   "metadata": {},
   "outputs": [],
   "source": [
    "male, female = totals.loc['M'], totals.loc['F']"
   ]
  },
  {
   "cell_type": "code",
   "execution_count": 44,
   "metadata": {},
   "outputs": [
    {
     "data": {
      "text/plain": [
       "name\n",
       "Aaban     114\n",
       "Aabid      16\n",
       "Aabir      10\n",
       "Aadam     273\n",
       "Aadan     130\n",
       "         ... \n",
       "Zyus       11\n",
       "Zyvion      5\n",
       "Zyvon       7\n",
       "Zyyon       6\n",
       "Zzyzx      10\n",
       "Name: number, Length: 41475, dtype: int64"
      ]
     },
     "execution_count": 44,
     "metadata": {},
     "output_type": "execute_result"
    }
   ],
   "source": [
    "male"
   ]
  },
  {
   "cell_type": "code",
   "execution_count": 45,
   "metadata": {},
   "outputs": [
    {
     "data": {
      "text/plain": [
       "name\n",
       "Aabha        35\n",
       "Aabidah       5\n",
       "Aabriella    38\n",
       "Aada         13\n",
       "Aadaya        8\n",
       "             ..\n",
       "Zyrielle     27\n",
       "Zyrihanna    45\n",
       "Zyriyah      16\n",
       "Zyva         23\n",
       "Zyyanna       6\n",
       "Name: number, Length: 67698, dtype: int64"
      ]
     },
     "execution_count": 45,
     "metadata": {},
     "output_type": "execute_result"
    }
   ],
   "source": [
    "female"
   ]
  },
  {
   "cell_type": "code",
   "execution_count": 46,
   "metadata": {},
   "outputs": [
    {
     "data": {
      "text/plain": [
       "name\n",
       "Aaban      False\n",
       "Aabha      False\n",
       "Aabid      False\n",
       "Aabidah    False\n",
       "Aabir      False\n",
       "           ...  \n",
       "Zyvion     False\n",
       "Zyvon      False\n",
       "Zyyanna    False\n",
       "Zyyon      False\n",
       "Zzyzx      False\n",
       "Name: number, Length: 98400, dtype: bool"
      ]
     },
     "execution_count": 46,
     "metadata": {},
     "output_type": "execute_result"
    }
   ],
   "source": [
    "totals.loc['M'] / totals.loc['F'] < 2"
   ]
  },
  {
   "cell_type": "code",
   "execution_count": null,
   "metadata": {},
   "outputs": [],
   "source": []
  }
 ],
 "metadata": {
  "kernelspec": {
   "display_name": "Python 3",
   "language": "python",
   "name": "python3"
  },
  "language_info": {
   "codemirror_mode": {
    "name": "ipython",
    "version": 3
   },
   "file_extension": ".py",
   "mimetype": "text/x-python",
   "name": "python",
   "nbconvert_exporter": "python",
   "pygments_lexer": "ipython3",
   "version": "3.7.6"
  }
 },
 "nbformat": 4,
 "nbformat_minor": 4
}
