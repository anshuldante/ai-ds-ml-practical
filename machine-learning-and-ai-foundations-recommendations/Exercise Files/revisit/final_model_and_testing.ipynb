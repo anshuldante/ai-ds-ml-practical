{
 "cells": [
  {
   "cell_type": "code",
   "execution_count": 1,
   "metadata": {},
   "outputs": [],
   "source": [
    "import numpy as np\n",
    "import pandas as pd\n",
    "import pickle\n",
    "import matrix_factorization_utilities"
   ]
  },
  {
   "cell_type": "markdown",
   "metadata": {},
   "source": [
    "## Training the model"
   ]
  },
  {
   "cell_type": "code",
   "execution_count": 2,
   "metadata": {},
   "outputs": [
    {
     "name": "stdout",
     "output_type": "stream",
     "text": [
      "Optimization terminated successfully.\n",
      "         Current function value: 105.620378\n",
      "         Iterations: 455\n",
      "         Function evaluations: 660\n",
      "         Gradient evaluations: 660\n"
     ]
    }
   ],
   "source": [
    "# Load user ratings\n",
    "raw_dataset_df = pd.read_csv('movie_ratings_data_set.csv')\n",
    "\n",
    "# Convert the running list of user ratings into a matrix\n",
    "ratings_df = pd.pivot_table(raw_dataset_df, index='user_id', columns='movie_id', aggfunc=np.max)\n",
    "\n",
    "# Normalize the ratings (center them around their mean)\n",
    "normalized_ratings, means = matrix_factorization_utilities.normalize_ratings(ratings_df.to_numpy())\n",
    "\n",
    "# Apply matrix factorization to find the latent features\n",
    "U, M = matrix_factorization_utilities.low_rank_matrix_factorization(normalized_ratings,\n",
    "                                                                    num_features=11,\n",
    "                                                                    regularization_amount=1.1)\n",
    "\n",
    "# Find all predicted ratings by multiplying U and M\n",
    "predicted_ratings = np.matmul(U, M)\n",
    "\n",
    "# Add back in the mean ratings for each product to de-normalize the predicted results\n",
    "predicted_ratings = predicted_ratings + means\n",
    "\n",
    "# Save features and predicted ratings to files for later use\n",
    "pickle.dump(U, open(\"user_features.dat\", \"wb\"))\n",
    "pickle.dump(M, open(\"product_features.dat\", \"wb\"))\n",
    "pickle.dump(predicted_ratings, open(\"predicted_ratings.dat\", \"wb\"))\n",
    "pickle.dump(means, open(\"means.dat\", \"wb\"))"
   ]
  },
  {
   "cell_type": "markdown",
   "metadata": {},
   "source": [
    "## Cold Start Recommendations"
   ]
  },
  {
   "cell_type": "code",
   "execution_count": 4,
   "metadata": {},
   "outputs": [
    {
     "name": "stdout",
     "output_type": "stream",
     "text": [
      "Movies we will recommend:\n",
      "                            title                   genre    rating\n",
      "movie_id                                                           \n",
      "6               Attack on Earth 1          sci-fi, action  4.900000\n",
      "10        Surrounded by Zombies 1  horror, zombie fiction  4.882353\n",
      "3                   The Sheriff 2    crime drama, western  4.818182\n",
      "12                     Horrorfest                  horror  4.800000\n",
      "5            The Big City Judge 2             legal drama  4.785714\n"
     ]
    }
   ],
   "source": [
    "# Load prediction rules from data files\n",
    "means = pickle.load(open(\"means.dat\", \"rb\"))\n",
    "\n",
    "# Load movie titles\n",
    "movies_df = pd.read_csv('movies.csv', index_col='movie_id')\n",
    "\n",
    "# Just use the average movie ratings directly as the user's predicted ratings\n",
    "user_ratings = means\n",
    "\n",
    "print(\"Movies we will recommend:\")\n",
    "\n",
    "movies_df['rating'] = user_ratings\n",
    "movies_df = movies_df.sort_values(by=['rating'], ascending=False)\n",
    "\n",
    "print(movies_df[['title', 'genre', 'rating']].head(5))"
   ]
  },
  {
   "cell_type": "markdown",
   "metadata": {},
   "source": [
    "## Make Recommendations from Data Files"
   ]
  },
  {
   "cell_type": "code",
   "execution_count": 6,
   "metadata": {},
   "outputs": [
    {
     "name": "stdout",
     "output_type": "stream",
     "text": [
      "Enter a user_id to get recommendations (Between 1 and 100):\n",
      "9\n",
      "Movies we will recommend:\n",
      "                            title                   genre    rating\n",
      "movie_id                                                           \n",
      "6               Attack on Earth 1          sci-fi, action  4.980102\n",
      "3                   The Sheriff 2    crime drama, western  4.974564\n",
      "10        Surrounded by Zombies 1  horror, zombie fiction  4.949720\n",
      "13                  The Sheriff 3    crime drama, western  4.936344\n",
      "5            The Big City Judge 2             legal drama  4.855532\n"
     ]
    }
   ],
   "source": [
    "# Load prediction rules from data files\n",
    "U = pickle.load(open(\"user_features.dat\", \"rb\"))\n",
    "M = pickle.load(open(\"product_features.dat\", \"rb\"))\n",
    "predicted_ratings = pickle.load(open(\"predicted_ratings.dat\", \"rb\"))\n",
    "\n",
    "# Load movie titles\n",
    "movies_df = pd.read_csv('movies.csv', index_col='movie_id')\n",
    "\n",
    "print(\"Enter a user_id to get recommendations (Between 1 and 100):\")\n",
    "user_id_to_search = int(input())\n",
    "\n",
    "print(\"Movies we will recommend:\")\n",
    "\n",
    "user_ratings = predicted_ratings[user_id_to_search - 1]\n",
    "movies_df['rating'] = user_ratings\n",
    "movies_df = movies_df.sort_values(by=['rating'], ascending=False)\n",
    "\n",
    "print(movies_df[['title', 'genre', 'rating']].head(5))"
   ]
  },
  {
   "cell_type": "code",
   "execution_count": null,
   "metadata": {},
   "outputs": [],
   "source": []
  }
 ],
 "metadata": {
  "kernelspec": {
   "display_name": "Python 3.7.6 64-bit ('anaconda3': virtualenv)",
   "language": "python",
   "name": "python37664bitanaconda3virtualenv14f0be09cba74924b59e6e390c97b227"
  },
  "language_info": {
   "codemirror_mode": {
    "name": "ipython",
    "version": 3
   },
   "file_extension": ".py",
   "mimetype": "text/x-python",
   "name": "python",
   "nbconvert_exporter": "python",
   "pygments_lexer": "ipython3",
   "version": "3.7.6"
  }
 },
 "nbformat": 4,
 "nbformat_minor": 4
}
