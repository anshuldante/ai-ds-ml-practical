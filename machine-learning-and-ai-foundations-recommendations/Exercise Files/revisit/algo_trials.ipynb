{
 "cells": [
  {
   "cell_type": "code",
   "execution_count": 1,
   "metadata": {},
   "outputs": [],
   "source": [
    "import numpy as np\n",
    "import pandas as pd\n",
    "import matrix_factorization_utilities"
   ]
  },
  {
   "cell_type": "markdown",
   "metadata": {},
   "source": [
    "## Factor Review Matrix"
   ]
  },
  {
   "cell_type": "code",
   "execution_count": 6,
   "metadata": {},
   "outputs": [
    {
     "name": "stdout",
     "output_type": "stream",
     "text": [
      "Warning: Maximum number of iterations has been exceeded.\n",
      "         Current function value: 32.504379\n",
      "         Iterations: 3000\n",
      "         Function evaluations: 4533\n",
      "         Gradient evaluations: 4533\n"
     ]
    }
   ],
   "source": [
    "# Load user ratings\n",
    "raw_dataset_df = pd.read_csv('movie_ratings_data_set.csv')\n",
    "\n",
    "# Convert the running list of user ratings into a matrix\n",
    "ratings_df = pd.pivot_table(raw_dataset_df, index='user_id', columns='movie_id', aggfunc=np.max)\n",
    "\n",
    "# Apply matrix factorization to find the latent features\n",
    "U, M = matrix_factorization_utilities.low_rank_matrix_factorization(ratings_df.to_numpy(),\n",
    "                                                                    num_features=15,\n",
    "                                                                    regularization_amount=0.1)\n",
    "\n",
    "# Find all predicted ratings by multiplying the U by M\n",
    "predicted_ratings = np.matmul(U, M)\n",
    "\n",
    "# Save all the ratings to a csv file\n",
    "predicted_ratings_df = pd.DataFrame(index=ratings_df.index,\n",
    "                                    columns=ratings_df.columns,\n",
    "                                    data=predicted_ratings)\n",
    "predicted_ratings_df.to_csv(\"predicted_ratings.csv\")"
   ]
  },
  {
   "cell_type": "markdown",
   "metadata": {},
   "source": [
    "## Find Similar Products"
   ]
  },
  {
   "cell_type": "code",
   "execution_count": 11,
   "metadata": {},
   "outputs": [
    {
     "name": "stdout",
     "output_type": "stream",
     "text": [
      "Optimization terminated successfully.\n",
      "         Current function value: 312.762757\n",
      "         Iterations: 1468\n",
      "         Function evaluations: 2191\n",
      "         Gradient evaluations: 2191\n",
      "We are finding movies similar to this movie:\n",
      "Movie title: The Big City Judge 2\n",
      "Genre: legal drama\n",
      "The attributes for this movie are:\n",
      "[ 0.66523693 -0.82921935 -0.72683696  0.52196015 -0.84881208 -1.84118768\n",
      " -0.78741868  0.25951176 -0.11970143  0.11416591 -0.1510272  -0.17742577\n",
      " -0.23366574 -0.81280514  1.0830647 ]\n",
      "The five most similar movies are:\n",
      "                            title  difference_score\n",
      "movie_id                                           \n",
      "5            The Big City Judge 2          0.000000\n",
      "10        Surrounded by Zombies 1          1.872522\n",
      "9                     Biker Gangs          2.599746\n",
      "3                   The Sheriff 2          2.695354\n",
      "24           The Big City Judge 3          2.788348\n"
     ]
    }
   ],
   "source": [
    "\n",
    "# Load user ratings\n",
    "df = pd.read_csv('movie_ratings_data_set.csv')\n",
    "\n",
    "# Load movie titles\n",
    "movies_df = pd.read_csv('movies.csv', index_col='movie_id')\n",
    "\n",
    "# Convert the running list of user ratings into a matrix\n",
    "ratings_df = pd.pivot_table(df, index='user_id', columns='movie_id', aggfunc=np.max)\n",
    "\n",
    "# Apply matrix factorization to find the latent features\n",
    "U, M = matrix_factorization_utilities.low_rank_matrix_factorization(ratings_df.to_numpy(),\n",
    "                                                                    num_features=15,\n",
    "                                                                    regularization_amount=1.0)\n",
    "\n",
    "# Swap the rows and columns of product_features just so it's easier to work with\n",
    "M = np.transpose(M)\n",
    "\n",
    "# Choose a movie to find similar movies to. Let's find movies similar to movie #5:\n",
    "movie_id = 5\n",
    "\n",
    "# Get movie #1's name and genre\n",
    "movie_information = movies_df.loc[movie_id]\n",
    "\n",
    "print(\"We are finding movies similar to this movie:\")\n",
    "print(\"Movie title: {}\".format(movie_information.title))\n",
    "print(\"Genre: {}\".format(movie_information.genre))\n",
    "\n",
    "# Get the features for movie #1 we found via matrix factorization\n",
    "current_movie_features = M[movie_id - 1]\n",
    "\n",
    "print(\"The attributes for this movie are:\")\n",
    "print(current_movie_features)\n",
    "\n",
    "# The main logic for finding similar movies:\n",
    "\n",
    "# 1. Subtract the current movie's features from every other movie's features\n",
    "difference = M - current_movie_features\n",
    "\n",
    "# 2. Take the absolute value of that difference (so all numbers are positive)\n",
    "absolute_difference = np.abs(difference)\n",
    "\n",
    "# 3. Each movie has 15 features. Sum those 15 features to get a total 'difference score' for each movie\n",
    "total_difference = np.sum(absolute_difference, axis=1)\n",
    "\n",
    "# 4. Create a new column in the movie list with the difference score for each movie\n",
    "movies_df['difference_score'] = total_difference\n",
    "\n",
    "# 5. Sort the movie list by difference score, from least different to most different\n",
    "sorted_movie_list = movies_df.sort_values('difference_score')\n",
    "\n",
    "# 6. Print the result, showing the 5 most similar movies to movie_id #1\n",
    "print(\"The five most similar movies are:\")\n",
    "print(sorted_movie_list[['title', 'difference_score']][0:5])"
   ]
  },
  {
   "cell_type": "markdown",
   "metadata": {},
   "source": [
    "## Make Recommendations"
   ]
  },
  {
   "cell_type": "code",
   "execution_count": 13,
   "metadata": {},
   "outputs": [
    {
     "name": "stdout",
     "output_type": "stream",
     "text": [
      "Warning: Maximum number of iterations has been exceeded.\n",
      "         Current function value: 32.504379\n",
      "         Iterations: 3000\n",
      "         Function evaluations: 4533\n",
      "         Gradient evaluations: 4533\n",
      "Enter a user_id to get recommendations (Between 1 and 100):\n",
      "14\n",
      "Movies previously reviewed by user_id 14:\n",
      "                   title                 genre  value\n",
      "87  The Big City Judge 1           legal drama      4\n",
      "88         The Sheriff 2  crime drama, western      5\n",
      "89  The Big City Judge 3           legal drama      5\n",
      "90  The Big City Judge 2           legal drama      5\n",
      "91         The Sheriff 3  crime drama, western      5\n",
      "92         The Sheriff 1  crime drama, western      5\n",
      "Press enter to continue.\n",
      "Movies we will recommend:\n",
      "                             title                     genre    rating\n",
      "movie_id                                                              \n",
      "33                    Sports Nerds                    comedy  5.199235\n",
      "21                 Political Gaffs  comedy, political satire  4.785242\n",
      "10         Surrounded by Zombies 1    horror, zombie fiction  4.652300\n",
      "8         Sci-Fi Murder Detectives     supernatural, mystery  4.614328\n",
      "6                Attack on Earth 1            sci-fi, action  4.557524\n"
     ]
    }
   ],
   "source": [
    "\n",
    "# Load user ratings\n",
    "raw_dataset_df = pd.read_csv('movie_ratings_data_set.csv')\n",
    "\n",
    "# Load movie titles\n",
    "movies_df = pd.read_csv('movies.csv', index_col='movie_id')\n",
    "\n",
    "# Convert the running list of user ratings into a matrix\n",
    "ratings_df = pd.pivot_table(raw_dataset_df, index='user_id',\n",
    "                            columns='movie_id',\n",
    "                            aggfunc=np.max)\n",
    "\n",
    "# Apply matrix factorization to find the latent features\n",
    "U, M = matrix_factorization_utilities.low_rank_matrix_factorization(ratings_df.to_numpy(),\n",
    "                                                                    num_features=15,\n",
    "                                                                    regularization_amount=0.1)\n",
    "\n",
    "# Find all predicted ratings by multiplying U and M matrices\n",
    "predicted_ratings = np.matmul(U, M)\n",
    "\n",
    "print(\"Enter a user_id to get recommendations (Between 1 and 100):\")\n",
    "user_id_to_search = int(input())\n",
    "\n",
    "print(\"Movies previously reviewed by user_id {}:\".format(user_id_to_search))\n",
    "\n",
    "reviewed_movies_df = raw_dataset_df[raw_dataset_df['user_id'] == user_id_to_search]\n",
    "reviewed_movies_df = reviewed_movies_df.join(movies_df, on = 'movie_id')\n",
    "\n",
    "print(reviewed_movies_df[['title', 'genre', 'value']])\n",
    "\n",
    "input(\"Press enter to continue.\")\n",
    "\n",
    "print(\"Movies we will recommend:\")\n",
    "\n",
    "user_ratings = predicted_ratings[user_id_to_search - 1]\n",
    "movies_df['rating'] = user_ratings\n",
    "\n",
    "already_reviewed = reviewed_movies_df['movie_id']\n",
    "recommended_df = movies_df[movies_df.index.isin(already_reviewed) == False]\n",
    "recommended_df = recommended_df.sort_values(by=['rating'], ascending=False)\n",
    "\n",
    "print(recommended_df[['title', 'genre', 'rating']].head(5))"
   ]
  },
  {
   "cell_type": "markdown",
   "metadata": {},
   "source": [
    "## Measuring Accuracy"
   ]
  },
  {
   "cell_type": "code",
   "execution_count": 24,
   "metadata": {},
   "outputs": [
    {
     "name": "stdout",
     "output_type": "stream",
     "text": [
      "Optimization terminated successfully.\n",
      "         Current function value: 288.083398\n",
      "         Iterations: 735\n",
      "         Function evaluations: 1107\n",
      "         Gradient evaluations: 1107\n",
      "Training RMSE: 0.22834276996301733\n",
      "Testing RMSE: 1.2098648707121624\n"
     ]
    }
   ],
   "source": [
    "# Load user ratings\n",
    "raw_training_dataset_df = pd.read_csv('movie_ratings_data_set_training.csv')\n",
    "raw_testing_dataset_df = pd.read_csv('movie_ratings_data_set_testing.csv')\n",
    "\n",
    "# Convert the running list of user ratings into a matrix\n",
    "ratings_training_df = pd.pivot_table(raw_training_dataset_df, index='user_id', columns='movie_id', aggfunc=np.max)\n",
    "ratings_testing_df = pd.pivot_table(raw_testing_dataset_df, index='user_id', columns='movie_id', aggfunc=np.max)\n",
    "\n",
    "# Apply matrix factorization to find the latent features\n",
    "U, M = matrix_factorization_utilities.low_rank_matrix_factorization(ratings_training_df.to_numpy(),\n",
    "                                                                    num_features=11,\n",
    "                                                                    regularization_amount=1)\n",
    "\n",
    "# Find all predicted ratings by multiplying U and M\n",
    "predicted_ratings = np.matmul(U, M)\n",
    "\n",
    "# Measure RMSE\n",
    "rmse_training = matrix_factorization_utilities.RMSE(ratings_training_df.to_numpy(), predicted_ratings)\n",
    "rmse_testing = matrix_factorization_utilities.RMSE(ratings_testing_df.to_numpy(), predicted_ratings)\n",
    "\n",
    "print(\"Training RMSE: {}\".format(rmse_training))\n",
    "print(\"Testing RMSE: {}\".format(rmse_testing))\n"
   ]
  },
  {
   "cell_type": "code",
   "execution_count": null,
   "metadata": {},
   "outputs": [],
   "source": []
  }
 ],
 "metadata": {
  "kernelspec": {
   "display_name": "Python 3.7.6 64-bit ('anaconda3': virtualenv)",
   "language": "python",
   "name": "python37664bitanaconda3virtualenv14f0be09cba74924b59e6e390c97b227"
  },
  "language_info": {
   "codemirror_mode": {
    "name": "ipython",
    "version": 3
   },
   "file_extension": ".py",
   "mimetype": "text/x-python",
   "name": "python",
   "nbconvert_exporter": "python",
   "pygments_lexer": "ipython3",
   "version": "3.7.6"
  }
 },
 "nbformat": 4,
 "nbformat_minor": 4
}
