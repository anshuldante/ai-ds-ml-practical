{
 "cells": [
  {
   "cell_type": "code",
   "execution_count": 1,
   "metadata": {},
   "outputs": [],
   "source": [
    "import numpy as np\n",
    "import pandas as pd\n",
    "import webbrowser\n",
    "import os"
   ]
  },
  {
   "cell_type": "code",
   "execution_count": 2,
   "metadata": {},
   "outputs": [],
   "source": [
    "def simpleValueEstimator(size_in_sqft, number_of_bedrooms):\n",
    "    value = 3000000 + size_in_sqft * 10000 + number_of_bedrooms * 500000\n",
    "    return value"
   ]
  },
  {
   "cell_type": "code",
   "execution_count": 3,
   "metadata": {},
   "outputs": [
    {
     "data": {
      "text/plain": [
       "23500000"
      ]
     },
     "execution_count": 3,
     "metadata": {},
     "output_type": "execute_result"
    }
   ],
   "source": [
    "simpleValueEstimator(1800,5)"
   ]
  },
  {
   "cell_type": "code",
   "execution_count": 4,
   "metadata": {},
   "outputs": [
    {
     "data": {
      "text/plain": [
       "array([337.8, 396.8, 316.2, 365.8, 316. , 324.2, 457. , 349. , 349.4,\n",
       "       199.6, 404. , 503.4, 367. ])"
      ]
     },
     "execution_count": 4,
     "metadata": {},
     "output_type": "execute_result"
    }
   ],
   "source": [
    "sizes = np.array([\n",
    "    1689.0,\n",
    "    1984.0,\n",
    "    1581.0,\n",
    "    1829.0,\n",
    "    1580.0,\n",
    "    1621.0,\n",
    "    2285.0,\n",
    "    1745.0,\n",
    "    1747.0,\n",
    "    998.0,\n",
    "    2020.0,\n",
    "    2517.0,\n",
    "    1835.0\n",
    "])\n",
    "sizes*0.2"
   ]
  },
  {
   "cell_type": "code",
   "execution_count": 5,
   "metadata": {},
   "outputs": [
    {
     "name": "stdout",
     "output_type": "stream",
     "text": [
      "<class 'pandas.core.frame.DataFrame'>\n",
      "RangeIndex: 42703 entries, 0 to 42702\n",
      "Data columns (total 20 columns):\n",
      " #   Column               Non-Null Count  Dtype  \n",
      "---  ------               --------------  -----  \n",
      " 0   year_built           42703 non-null  int64  \n",
      " 1   stories              42703 non-null  int64  \n",
      " 2   num_bedrooms         42703 non-null  int64  \n",
      " 3   full_bathrooms       42703 non-null  int64  \n",
      " 4   half_bathrooms       42703 non-null  int64  \n",
      " 5   livable_sqft         42703 non-null  int64  \n",
      " 6   total_sqft           42703 non-null  int64  \n",
      " 7   garage_type          42703 non-null  object \n",
      " 8   garage_sqft          42703 non-null  int64  \n",
      " 9   carport_sqft         42703 non-null  int64  \n",
      " 10  has_fireplace        42703 non-null  bool   \n",
      " 11  has_pool             42703 non-null  bool   \n",
      " 12  has_central_heating  42703 non-null  bool   \n",
      " 13  has_central_cooling  42703 non-null  bool   \n",
      " 14  house_number         42703 non-null  int64  \n",
      " 15  street_name          42703 non-null  object \n",
      " 16  unit_number          3088 non-null   float64\n",
      " 17  city                 42703 non-null  object \n",
      " 18  zip_code             42703 non-null  int64  \n",
      " 19  sale_price           42703 non-null  float64\n",
      "dtypes: bool(4), float64(2), int64(11), object(3)\n",
      "memory usage: 5.4+ MB\n"
     ]
    }
   ],
   "source": [
    "house=pd.read_csv('ml_house_data_set.csv')\n",
    "house.info()"
   ]
  },
  {
   "cell_type": "code",
   "execution_count": 8,
   "metadata": {},
   "outputs": [
    {
     "data": {
      "text/plain": [
       "True"
      ]
     },
     "execution_count": 8,
     "metadata": {},
     "output_type": "execute_result"
    }
   ],
   "source": [
    "html = house[0:100].to_html()\n",
    "with open(\"data.html\", \"w\") as f:\n",
    "    f.write(html)\n",
    "\n",
    "full_filename = os.path.abspath(\"data.html\")\n",
    "webbrowser.open(\"file://{}\".format(full_filename))\n",
    "html = house[0:100].to_html()\n",
    "with open(\"data.html\", \"w\") as f:\n",
    "    f.write(html)\n",
    "\n",
    "full_filename = os.path.abspath(\"data.html\")\n",
    "webbrowser.open(\"file://{}\".format(full_filename))"
   ]
  },
  {
   "cell_type": "code",
   "execution_count": null,
   "metadata": {},
   "outputs": [],
   "source": []
  }
 ],
 "metadata": {
  "kernelspec": {
   "display_name": "Python 3.7.6 64-bit ('anaconda3': virtualenv)",
   "language": "python",
   "name": "python37664bitanaconda3virtualenv14f0be09cba74924b59e6e390c97b227"
  },
  "language_info": {
   "codemirror_mode": {
    "name": "ipython",
    "version": 3
   },
   "file_extension": ".py",
   "mimetype": "text/x-python",
   "name": "python",
   "nbconvert_exporter": "python",
   "pygments_lexer": "ipython3",
   "version": "3.7.6"
  }
 },
 "nbformat": 4,
 "nbformat_minor": 4
}
