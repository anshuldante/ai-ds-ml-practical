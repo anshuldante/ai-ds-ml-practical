{
 "cells": [
  {
   "cell_type": "code",
   "execution_count": 4,
   "metadata": {},
   "outputs": [],
   "source": [
    "%matplotlib inline\n",
    "import pandas as pd\n",
    "import matplotlib.pyplot as plt\n",
    "import numpy as np\n",
    "from scipy import stats\n",
    "import seaborn as sns\n",
    "import statsmodels.api as sm\n",
    "from sklearn.model_selection import train_test_split \n",
    "from sklearn import metrics\n",
    "from sklearn.metrics import explained_variance_score"
   ]
  },
  {
   "cell_type": "code",
   "execution_count": 10,
   "metadata": {},
   "outputs": [
    {
     "name": "stdout",
     "output_type": "stream",
     "text": [
      "<class 'pandas.core.frame.DataFrame'>\n",
      "RangeIndex: 303 entries, 0 to 302\n",
      "Data columns (total 14 columns):\n",
      " #   Column    Non-Null Count  Dtype  \n",
      "---  ------    --------------  -----  \n",
      " 0   age       303 non-null    int64  \n",
      " 1   sex       303 non-null    int64  \n",
      " 2   cp        303 non-null    int64  \n",
      " 3   trestbps  303 non-null    int64  \n",
      " 4   chol      303 non-null    int64  \n",
      " 5   fbs       303 non-null    int64  \n",
      " 6   restecg   303 non-null    int64  \n",
      " 7   thalach   303 non-null    int64  \n",
      " 8   exang     303 non-null    int64  \n",
      " 9   oldpeak   303 non-null    float64\n",
      " 10  slope     303 non-null    int64  \n",
      " 11  ca        303 non-null    int64  \n",
      " 12  thal      303 non-null    int64  \n",
      " 13  target    303 non-null    int64  \n",
      "dtypes: float64(1), int64(13)\n",
      "memory usage: 33.3 KB\n"
     ]
    },
    {
     "data": {
      "text/plain": [
       "(   age  sex  cp  trestbps  chol  fbs  restecg  thalach  exang  oldpeak  slope  \\\n",
       " 0   63    1   3       145   233    1        0      150      0      2.3      0   \n",
       " 1   37    1   2       130   250    0        1      187      0      3.5      0   \n",
       " 2   41    0   1       130   204    0        0      172      0      1.4      2   \n",
       " 3   56    1   1       120   236    0        1      178      0      0.8      2   \n",
       " 4   57    0   0       120   354    0        1      163      1      0.6      2   \n",
       " \n",
       "    ca  thal  target  \n",
       " 0   0     1       1  \n",
       " 1   0     2       1  \n",
       " 2   0     2       1  \n",
       " 3   0     2       1  \n",
       " 4   0     2       1  ,\n",
       " None,\n",
       " 165)"
      ]
     },
     "execution_count": 10,
     "metadata": {},
     "output_type": "execute_result"
    }
   ],
   "source": [
    "heart = pd.read_csv('../mydata/heart.csv')\n",
    "heart.head(), heart.info()"
   ]
  },
  {
   "cell_type": "code",
   "execution_count": 9,
   "metadata": {},
   "outputs": [
    {
     "name": "stdout",
     "output_type": "stream",
     "text": [
      "Mean Absolute Error: 0.2981361736043105\n",
      "Mean Squared Error: 0.1309909385704733\n",
      "Root Mean Squared Error: 0.3619267033122498\n",
      "Explained Variance Score: 0.47141230607339435\n"
     ]
    },
    {
     "data": {
      "text/plain": [
       "array([ 0.06801472,  0.71681997,  0.73679794,  0.01302379,  0.23606595,\n",
       "        0.51943293,  0.1832927 ,  0.26862082, -0.18844421, -0.23819858,\n",
       "        0.65236404,  0.89925409,  0.10829792,  0.76215218,  0.99402895,\n",
       "        0.62248155,  0.17280607,  0.65143817, -0.14748662,  0.75662605,\n",
       "        0.72253637,  0.4515309 ,  0.25067708,  0.24118341,  0.80149218,\n",
       "        0.5818327 ,  0.3186585 ,  0.48354757,  1.06023388,  0.60702415,\n",
       "        0.62134778, -0.05702169,  1.00480281,  0.65907569,  0.86560243,\n",
       "        0.57494184,  0.07005343,  0.77550305,  0.18177813,  0.31589193,\n",
       "        0.66827766,  0.73731671,  0.42602317,  0.18737756,  0.51958253,\n",
       "        0.64602671,  0.75016333,  0.59514114,  0.13934865,  0.73662645,\n",
       "        0.78272629,  0.56785086,  1.00228097,  0.77204668,  1.25304618,\n",
       "        0.24734838,  0.93422182,  0.87746248,  0.69182111,  0.95483771,\n",
       "        0.71801876])"
      ]
     },
     "execution_count": 9,
     "metadata": {},
     "output_type": "execute_result"
    }
   ],
   "source": [
    "X = heart.drop(['target'], axis=1).values\n",
    "y = heart['target'].values\n",
    "\n",
    "X_train,X_test, y_train, y_test = train_test_split(X, y, test_size=0.2, random_state=0)\n",
    "\n",
    "model = LinearRegression()\n",
    "model.fit(X_train,y_train)\n",
    "\n",
    "y_pred = model.predict(X_test)\n",
    "\n",
    "print('Mean Absolute Error:', metrics.mean_absolute_error(y_test, y_pred))  \n",
    "print('Mean Squared Error:', metrics.mean_squared_error(y_test, y_pred))  \n",
    "print('Root Mean Squared Error:', np.sqrt(metrics.mean_squared_error(y_test, y_pred)))\n",
    "print('Explained Variance Score:', explained_variance_score(y_test, y_pred, multioutput='uniform_average'))\n",
    "y_pred"
   ]
  },
  {
   "cell_type": "code",
   "execution_count": 41,
   "metadata": {},
   "outputs": [
    {
     "name": "stdout",
     "output_type": "stream",
     "text": [
      "Mean Absolute Error: 0.21311475409836064\n",
      "Mean Squared Error: 0.21311475409836064\n",
      "Root Mean Squared Error: 0.4616435357484827\n",
      "Explained Variance Score: 0.14596949891067568\n"
     ]
    }
   ],
   "source": [
    "from sklearn.tree import DecisionTreeRegressor\n",
    "\n",
    "X = heart.drop(['target'], axis=1).values\n",
    "y = heart['target'].values\n",
    "\n",
    "X_train,X_test, y_train, y_test = train_test_split(X, y, test_size=0.2, random_state=0)\n",
    "\n",
    "model = DecisionTreeRegressor(random_state=0)\n",
    "model.fit(X_train,y_train)\n",
    "\n",
    "y_pred = model.predict(X_test)\n",
    "\n",
    "print('Mean Absolute Error:', metrics.mean_absolute_error(y_test, y_pred))  \n",
    "print('Mean Squared Error:', metrics.mean_squared_error(y_test, y_pred))  \n",
    "print('Root Mean Squared Error:', np.sqrt(metrics.mean_squared_error(y_test, y_pred)))\n",
    "print('Explained Variance Score:', explained_variance_score(y_test, y_pred, multioutput='uniform_average'))"
   ]
  },
  {
   "cell_type": "code",
   "execution_count": 42,
   "metadata": {},
   "outputs": [
    {
     "name": "stdout",
     "output_type": "stream",
     "text": [
      "Depth: 1, score: 0.759075907590759\n",
      "Depth: 2, score: 0.768976897689769\n",
      "Depth: 3, score: 0.8448844884488449\n",
      "Depth: 4, score: 0.8679867986798679\n",
      "Depth: 5, score: 0.9306930693069307\n",
      "Depth: 6, score: 0.966996699669967\n",
      "Depth: 7, score: 0.9801980198019802\n",
      "Depth: 8, score: 0.9933993399339934\n",
      "Depth: 9, score: 0.9966996699669967\n",
      "Depth: 10, score: 1.0\n",
      "Depth: 11, score: 1.0\n",
      "Depth: 12, score: 1.0\n",
      "Depth: 13, score: 1.0\n",
      "Depth: 14, score: 1.0\n",
      "Depth: 15, score: 1.0\n",
      "Depth: 16, score: 1.0\n",
      "Depth: 17, score: 1.0\n",
      "Depth: 18, score: 1.0\n",
      "Depth: 19, score: 1.0\n",
      "Depth: 20, score: 1.0\n",
      "Depth: 21, score: 1.0\n",
      "Depth: 22, score: 1.0\n",
      "Depth: 23, score: 1.0\n",
      "Depth: 24, score: 1.0\n",
      "Depth: 25, score: 1.0\n",
      "Depth: 26, score: 1.0\n",
      "Depth: 27, score: 1.0\n",
      "Depth: 28, score: 1.0\n",
      "Depth: 29, score: 1.0\n",
      "Depth: 30, score: 1.0\n",
      "Depth: 31, score: 1.0\n",
      "Depth: 32, score: 1.0\n",
      "Depth: 33, score: 1.0\n",
      "Depth: 34, score: 1.0\n",
      "Depth: 35, score: 1.0\n",
      "Depth: 36, score: 1.0\n",
      "Depth: 37, score: 1.0\n",
      "Depth: 38, score: 1.0\n",
      "Depth: 39, score: 1.0\n",
      "Depth: 40, score: 1.0\n",
      "Depth: 41, score: 1.0\n",
      "Depth: 42, score: 1.0\n",
      "Depth: 43, score: 1.0\n",
      "Depth: 44, score: 1.0\n",
      "Depth: 45, score: 1.0\n",
      "Depth: 46, score: 1.0\n",
      "Depth: 47, score: 1.0\n",
      "Depth: 48, score: 1.0\n",
      "Depth: 49, score: 1.0\n",
      "Depth: 50, score: 1.0\n"
     ]
    }
   ],
   "source": [
    "from sklearn.tree import DecisionTreeClassifier\n",
    "\n",
    "X = heart.drop(['target'], axis=1).values\n",
    "y = heart['target'].values\n",
    "\n",
    "def try_depth(max=10):\n",
    "    for max_depth in range(1, max+1):\n",
    "        tree_clf = DecisionTreeClassifier(max_depth=max_depth)\n",
    "        tree_clf.fit(X, y)\n",
    "        print(f'Depth: {max_depth}, score: {tree_clf.score(X, y)}')\n",
    "\n",
    "try_depth(50)"
   ]
  },
  {
   "cell_type": "code",
   "execution_count": 43,
   "metadata": {},
   "outputs": [
    {
     "name": "stdout",
     "output_type": "stream",
     "text": [
      "Depth: 1, score: 0.7049180327868853\n",
      "Depth: 2, score: 0.6557377049180327\n",
      "Depth: 3, score: 0.7704918032786885\n",
      "Depth: 4, score: 0.7704918032786885\n",
      "Depth: 5, score: 0.7377049180327869\n",
      "Depth: 6, score: 0.7377049180327869\n",
      "Depth: 7, score: 0.7868852459016393\n",
      "Depth: 8, score: 0.7540983606557377\n",
      "Depth: 9, score: 0.7704918032786885\n",
      "Depth: 10, score: 0.7540983606557377\n",
      "Depth: 11, score: 0.7540983606557377\n",
      "Depth: 12, score: 0.7540983606557377\n",
      "Depth: 13, score: 0.7868852459016393\n",
      "Depth: 14, score: 0.7213114754098361\n",
      "Depth: 15, score: 0.7540983606557377\n",
      "Depth: 16, score: 0.7704918032786885\n",
      "Depth: 17, score: 0.7704918032786885\n",
      "Depth: 18, score: 0.7540983606557377\n",
      "Depth: 19, score: 0.7868852459016393\n",
      "Depth: 20, score: 0.7540983606557377\n",
      "Depth: 21, score: 0.7540983606557377\n",
      "Depth: 22, score: 0.7540983606557377\n",
      "Depth: 23, score: 0.7704918032786885\n",
      "Depth: 24, score: 0.7377049180327869\n",
      "Depth: 25, score: 0.7540983606557377\n",
      "Depth: 26, score: 0.7540983606557377\n",
      "Depth: 27, score: 0.7540983606557377\n",
      "Depth: 28, score: 0.7377049180327869\n",
      "Depth: 29, score: 0.7704918032786885\n",
      "Depth: 30, score: 0.7704918032786885\n",
      "Depth: 31, score: 0.7377049180327869\n",
      "Depth: 32, score: 0.7540983606557377\n",
      "Depth: 33, score: 0.7540983606557377\n",
      "Depth: 34, score: 0.7049180327868853\n",
      "Depth: 35, score: 0.7704918032786885\n",
      "Depth: 36, score: 0.7704918032786885\n",
      "Depth: 37, score: 0.7868852459016393\n",
      "Depth: 38, score: 0.7213114754098361\n",
      "Depth: 39, score: 0.7377049180327869\n",
      "Depth: 40, score: 0.7540983606557377\n",
      "Depth: 41, score: 0.7704918032786885\n",
      "Depth: 42, score: 0.7377049180327869\n",
      "Depth: 43, score: 0.7704918032786885\n",
      "Depth: 44, score: 0.7704918032786885\n",
      "Depth: 45, score: 0.7540983606557377\n",
      "Depth: 46, score: 0.7213114754098361\n",
      "Depth: 47, score: 0.7868852459016393\n",
      "Depth: 48, score: 0.7868852459016393\n",
      "Depth: 49, score: 0.7704918032786885\n",
      "Depth: 50, score: 0.7540983606557377\n"
     ]
    }
   ],
   "source": [
    "X = heart.drop(['target'], axis=1).values\n",
    "y = heart['target'].values\n",
    "\n",
    "X_train,X_test, y_train, y_test = train_test_split(X, y, test_size=0.2, random_state=10)\n",
    "\n",
    "def fit_depth(max=10):\n",
    "    for max_depth in range(1, max+1):\n",
    "        tree_clf = DecisionTreeClassifier(max_depth=max_depth)\n",
    "        tree_clf.fit(X_train, y_train)\n",
    "        print(f'Depth: {max_depth}, score: {tree_clf.score(X_test, y_test)}')\n",
    "\n",
    "fit_depth(50)"
   ]
  },
  {
   "cell_type": "code",
   "execution_count": 44,
   "metadata": {},
   "outputs": [
    {
     "name": "stdout",
     "output_type": "stream",
     "text": [
      "score: 0.819672131147541\n"
     ]
    }
   ],
   "source": [
    "X = heart.drop(['target'], axis=1).values\n",
    "y = heart['target'].values\n",
    "\n",
    "X_train,X_test, y_train, y_test = train_test_split(X, y, test_size=0.2, random_state=0)\n",
    "\n",
    "tree_clf = DecisionTreeClassifier(max_depth=3)\n",
    "tree_clf.fit(X_train, y_train)\n",
    "print(f'score: {tree_clf.score(X_test, y_test)}')"
   ]
  },
  {
   "cell_type": "code",
   "execution_count": 51,
   "metadata": {},
   "outputs": [
    {
     "name": "stdout",
     "output_type": "stream",
     "text": [
      "alpha: 1e-06score: 0.8032786885245902\n",
      "alpha: 1e-05score: 0.7704918032786885\n",
      "alpha: 0.0001score: 0.8032786885245902\n",
      "alpha: 0.001score: 0.819672131147541\n"
     ]
    },
    {
     "name": "stderr",
     "output_type": "stream",
     "text": [
      "/Users/a0a00uj/anaconda3/lib/python3.7/site-packages/sklearn/neural_network/_multilayer_perceptron.py:571: ConvergenceWarning: Stochastic Optimizer: Maximum iterations (200) reached and the optimization hasn't converged yet.\n",
      "  % self.max_iter, ConvergenceWarning)\n"
     ]
    },
    {
     "name": "stdout",
     "output_type": "stream",
     "text": [
      "alpha: 0.01score: 0.8032786885245902\n"
     ]
    },
    {
     "name": "stderr",
     "output_type": "stream",
     "text": [
      "/Users/a0a00uj/anaconda3/lib/python3.7/site-packages/sklearn/neural_network/_multilayer_perceptron.py:571: ConvergenceWarning: Stochastic Optimizer: Maximum iterations (200) reached and the optimization hasn't converged yet.\n",
      "  % self.max_iter, ConvergenceWarning)\n"
     ]
    },
    {
     "name": "stdout",
     "output_type": "stream",
     "text": [
      "alpha: 0.1score: 0.7868852459016393\n",
      "alpha: 1score: 0.8032786885245902\n",
      "alpha: 10score: 0.819672131147541\n"
     ]
    },
    {
     "name": "stderr",
     "output_type": "stream",
     "text": [
      "/Users/a0a00uj/anaconda3/lib/python3.7/site-packages/sklearn/neural_network/_multilayer_perceptron.py:571: ConvergenceWarning: Stochastic Optimizer: Maximum iterations (200) reached and the optimization hasn't converged yet.\n",
      "  % self.max_iter, ConvergenceWarning)\n"
     ]
    },
    {
     "name": "stdout",
     "output_type": "stream",
     "text": [
      "alpha: 100score: 0.7213114754098361\n"
     ]
    },
    {
     "name": "stderr",
     "output_type": "stream",
     "text": [
      "/Users/a0a00uj/anaconda3/lib/python3.7/site-packages/sklearn/neural_network/_multilayer_perceptron.py:571: ConvergenceWarning: Stochastic Optimizer: Maximum iterations (200) reached and the optimization hasn't converged yet.\n",
      "  % self.max_iter, ConvergenceWarning)\n"
     ]
    },
    {
     "name": "stdout",
     "output_type": "stream",
     "text": [
      "alpha: 1000score: 0.6885245901639344\n",
      "alpha: 100000score: 0.4426229508196721\n"
     ]
    },
    {
     "name": "stderr",
     "output_type": "stream",
     "text": [
      "/Users/a0a00uj/anaconda3/lib/python3.7/site-packages/sklearn/neural_network/_multilayer_perceptron.py:571: ConvergenceWarning: Stochastic Optimizer: Maximum iterations (200) reached and the optimization hasn't converged yet.\n",
      "  % self.max_iter, ConvergenceWarning)\n"
     ]
    }
   ],
   "source": [
    "from sklearn.neural_network import MLPClassifier\n",
    "\n",
    "X = heart.drop(['target'], axis=1).values\n",
    "y = heart['target'].values\n",
    "\n",
    "X_train,X_test, y_train, y_test = train_test_split(X, y, test_size=0.2, random_state=0)\n",
    "\n",
    "def fit_nn(alphas):\n",
    "    for alpha in alphas:\n",
    "        clf = MLPClassifier(alpha=alpha, max_iter=200)\n",
    "        clf.fit(X_train, y_train)\n",
    "        print(f'alpha: {alpha}score: {clf.score(X_test, y_test)}')\n",
    "\n",
    "fit_nn([0.000001, 0.00001,0.0001, 0.001, 0.01, 0.1, 1, 10, 100, 1000, 100000])"
   ]
  },
  {
   "cell_type": "code",
   "execution_count": 52,
   "metadata": {},
   "outputs": [
    {
     "name": "stdout",
     "output_type": "stream",
     "text": [
      "score: 0.819672131147541\n"
     ]
    }
   ],
   "source": [
    "from sklearn.neural_network import MLPClassifier\n",
    "\n",
    "X = heart.drop(['target'], axis=1).values\n",
    "y = heart['target'].values\n",
    "\n",
    "X_train,X_test, y_train, y_test = train_test_split(X, y, test_size=0.2, random_state=0)\n",
    "\n",
    "clf = MLPClassifier(alpha=1, max_iter=1000)\n",
    "clf.fit(X_train, y_train)\n",
    "print(f'score: {clf.score(X_test, y_test)}')"
   ]
  },
  {
   "cell_type": "code",
   "execution_count": null,
   "metadata": {},
   "outputs": [],
   "source": []
  }
 ],
 "metadata": {
  "kernelspec": {
   "display_name": "Python 3.7.6 64-bit ('anaconda3': virtualenv)",
   "language": "python",
   "name": "python37664bitanaconda3virtualenv14f0be09cba74924b59e6e390c97b227"
  },
  "language_info": {
   "codemirror_mode": {
    "name": "ipython",
    "version": 3
   },
   "file_extension": ".py",
   "mimetype": "text/x-python",
   "name": "python",
   "nbconvert_exporter": "python",
   "pygments_lexer": "ipython3",
   "version": "3.7.6"
  }
 },
 "nbformat": 4,
 "nbformat_minor": 4
}
