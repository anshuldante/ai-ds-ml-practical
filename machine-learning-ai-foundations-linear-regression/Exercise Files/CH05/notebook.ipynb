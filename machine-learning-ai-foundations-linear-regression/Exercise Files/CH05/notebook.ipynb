{
 "cells": [
  {
   "cell_type": "code",
   "execution_count": 19,
   "metadata": {},
   "outputs": [],
   "source": [
    "%matplotlib inline\n",
    "import pandas as pd\n",
    "import matplotlib.pyplot as plt\n",
    "import numpy as np\n",
    "from scipy import stats\n",
    "import seaborn as sns\n",
    "import statsmodels.api as sm\n",
    "from sklearn.model_selection import train_test_split \n",
    "from sklearn.linear_model import LinearRegression\n",
    "from sklearn import metrics\n",
    "from sklearn.metrics import explained_variance_score\n",
    "from sklearn.decomposition import PCA"
   ]
  },
  {
   "cell_type": "code",
   "execution_count": 51,
   "metadata": {},
   "outputs": [
    {
     "name": "stdout",
     "output_type": "stream",
     "text": [
      "<class 'pandas.core.frame.DataFrame'>\n",
      "RangeIndex: 303 entries, 0 to 302\n",
      "Data columns (total 14 columns):\n",
      " #   Column    Non-Null Count  Dtype  \n",
      "---  ------    --------------  -----  \n",
      " 0   age       303 non-null    int64  \n",
      " 1   sex       303 non-null    int64  \n",
      " 2   cp        303 non-null    int64  \n",
      " 3   trestbps  303 non-null    int64  \n",
      " 4   chol      303 non-null    int64  \n",
      " 5   fbs       303 non-null    int64  \n",
      " 6   restecg   303 non-null    int64  \n",
      " 7   thalach   303 non-null    int64  \n",
      " 8   exang     303 non-null    int64  \n",
      " 9   oldpeak   303 non-null    float64\n",
      " 10  slope     303 non-null    int64  \n",
      " 11  ca        303 non-null    int64  \n",
      " 12  thal      303 non-null    int64  \n",
      " 13  target    303 non-null    int64  \n",
      "dtypes: float64(1), int64(13)\n",
      "memory usage: 33.3 KB\n"
     ]
    },
    {
     "data": {
      "text/plain": [
       "(   age  sex  cp  trestbps  chol  fbs  restecg  thalach  exang  oldpeak  slope  \\\n",
       " 0   63    1   3       145   233    1        0      150      0      2.3      0   \n",
       " 1   37    1   2       130   250    0        1      187      0      3.5      0   \n",
       " 2   41    0   1       130   204    0        0      172      0      1.4      2   \n",
       " 3   56    1   1       120   236    0        1      178      0      0.8      2   \n",
       " 4   57    0   0       120   354    0        1      163      1      0.6      2   \n",
       " \n",
       "    ca  thal  target  \n",
       " 0   0     1       1  \n",
       " 1   0     2       1  \n",
       " 2   0     2       1  \n",
       " 3   0     2       1  \n",
       " 4   0     2       1  ,\n",
       " None)"
      ]
     },
     "execution_count": 51,
     "metadata": {},
     "output_type": "execute_result"
    }
   ],
   "source": [
    "heart = pd.read_csv('../mydata/heart.csv')\n",
    "heart.head(), heart.info()"
   ]
  },
  {
   "cell_type": "markdown",
   "metadata": {},
   "source": [
    "### Using all available variables"
   ]
  },
  {
   "cell_type": "code",
   "execution_count": 74,
   "metadata": {},
   "outputs": [
    {
     "name": "stdout",
     "output_type": "stream",
     "text": [
      "Mean Absolute Error: 0.2981361736043105\n",
      "Mean Squared Error: 0.1309909385704733\n",
      "Root Mean Squared Error: 0.3619267033122498\n",
      "Explained Variance Score: 0.47141230607339435\n"
     ]
    }
   ],
   "source": [
    "X = heart.drop(['target'], axis=1).values\n",
    "y = heart['target'].values\n",
    "\n",
    "X_train,X_test, y_train, y_test = train_test_split(X, y, test_size=0.2, random_state=0)\n",
    "\n",
    "model = LinearRegression()\n",
    "model.fit(X_train,y_train)\n",
    "\n",
    "y_pred = model.predict(X_test)\n",
    "\n",
    "print('Mean Absolute Error:', metrics.mean_absolute_error(y_test, y_pred))  \n",
    "print('Mean Squared Error:', metrics.mean_squared_error(y_test, y_pred))  \n",
    "print('Root Mean Squared Error:', np.sqrt(metrics.mean_squared_error(y_test, y_pred)))\n",
    "print('Explained Variance Score:', explained_variance_score(y_test, y_pred, multioutput='uniform_average'))"
   ]
  },
  {
   "cell_type": "code",
   "execution_count": 43,
   "metadata": {},
   "outputs": [
    {
     "name": "stdout",
     "output_type": "stream",
     "text": [
      "[7.47564199e-01 1.50370221e-01 8.45968470e-02 1.62159604e-02\n",
      " 3.84085658e-04 2.81234229e-04 2.28993383e-04 9.98328415e-05\n",
      " 7.72143117e-05 5.87402295e-05 5.02927817e-05 4.09679747e-05\n",
      " 3.14113086e-05]\n",
      "[902.30333787 404.67766479 303.53264388 132.89224968  20.45230975\n",
      "  17.50098149  15.79209627  10.42713587   9.17016645   7.99827139\n",
      "   7.40084222   6.67960166   5.84886142]\n",
      "[2.69586528e+03 5.42264942e+02 3.05073066e+02 5.84779802e+01\n",
      " 1.38508932e+00 1.01418660e+00 8.25795710e-01 3.60017094e-01\n",
      " 2.78450175e-01 2.11828958e-01 1.81365780e-01 1.47738670e-01\n",
      " 1.13275430e-01]\n"
     ]
    },
    {
     "data": {
      "text/html": [
       "<div>\n",
       "<style scoped>\n",
       "    .dataframe tbody tr th:only-of-type {\n",
       "        vertical-align: middle;\n",
       "    }\n",
       "\n",
       "    .dataframe tbody tr th {\n",
       "        vertical-align: top;\n",
       "    }\n",
       "\n",
       "    .dataframe thead th {\n",
       "        text-align: right;\n",
       "    }\n",
       "</style>\n",
       "<table border=\"1\" class=\"dataframe\">\n",
       "  <thead>\n",
       "    <tr style=\"text-align: right;\">\n",
       "      <th></th>\n",
       "      <th>Variable</th>\n",
       "      <th>Variance Explained Ratio</th>\n",
       "      <th>Singular Value</th>\n",
       "      <th>Variance Explained</th>\n",
       "    </tr>\n",
       "  </thead>\n",
       "  <tbody>\n",
       "    <tr>\n",
       "      <th>0</th>\n",
       "      <td>age</td>\n",
       "      <td>0.747564</td>\n",
       "      <td>902.303338</td>\n",
       "      <td>2695.865277</td>\n",
       "    </tr>\n",
       "    <tr>\n",
       "      <th>1</th>\n",
       "      <td>sex</td>\n",
       "      <td>0.150370</td>\n",
       "      <td>404.677665</td>\n",
       "      <td>542.264942</td>\n",
       "    </tr>\n",
       "    <tr>\n",
       "      <th>2</th>\n",
       "      <td>cp</td>\n",
       "      <td>0.084597</td>\n",
       "      <td>303.532644</td>\n",
       "      <td>305.073066</td>\n",
       "    </tr>\n",
       "    <tr>\n",
       "      <th>3</th>\n",
       "      <td>trestbps</td>\n",
       "      <td>0.016216</td>\n",
       "      <td>132.892250</td>\n",
       "      <td>58.477980</td>\n",
       "    </tr>\n",
       "    <tr>\n",
       "      <th>4</th>\n",
       "      <td>chol</td>\n",
       "      <td>0.000384</td>\n",
       "      <td>20.452310</td>\n",
       "      <td>1.385089</td>\n",
       "    </tr>\n",
       "    <tr>\n",
       "      <th>5</th>\n",
       "      <td>fbs</td>\n",
       "      <td>0.000281</td>\n",
       "      <td>17.500981</td>\n",
       "      <td>1.014187</td>\n",
       "    </tr>\n",
       "    <tr>\n",
       "      <th>6</th>\n",
       "      <td>restecg</td>\n",
       "      <td>0.000229</td>\n",
       "      <td>15.792096</td>\n",
       "      <td>0.825796</td>\n",
       "    </tr>\n",
       "    <tr>\n",
       "      <th>7</th>\n",
       "      <td>thalach</td>\n",
       "      <td>0.000100</td>\n",
       "      <td>10.427136</td>\n",
       "      <td>0.360017</td>\n",
       "    </tr>\n",
       "    <tr>\n",
       "      <th>8</th>\n",
       "      <td>exang</td>\n",
       "      <td>0.000077</td>\n",
       "      <td>9.170166</td>\n",
       "      <td>0.278450</td>\n",
       "    </tr>\n",
       "    <tr>\n",
       "      <th>9</th>\n",
       "      <td>oldpeak</td>\n",
       "      <td>0.000059</td>\n",
       "      <td>7.998271</td>\n",
       "      <td>0.211829</td>\n",
       "    </tr>\n",
       "    <tr>\n",
       "      <th>10</th>\n",
       "      <td>slope</td>\n",
       "      <td>0.000050</td>\n",
       "      <td>7.400842</td>\n",
       "      <td>0.181366</td>\n",
       "    </tr>\n",
       "    <tr>\n",
       "      <th>11</th>\n",
       "      <td>ca</td>\n",
       "      <td>0.000041</td>\n",
       "      <td>6.679602</td>\n",
       "      <td>0.147739</td>\n",
       "    </tr>\n",
       "    <tr>\n",
       "      <th>12</th>\n",
       "      <td>thal</td>\n",
       "      <td>0.000031</td>\n",
       "      <td>5.848861</td>\n",
       "      <td>0.113275</td>\n",
       "    </tr>\n",
       "  </tbody>\n",
       "</table>\n",
       "</div>"
      ],
      "text/plain": [
       "    Variable  Variance Explained Ratio  Singular Value  Variance Explained\n",
       "0        age                  0.747564      902.303338         2695.865277\n",
       "1        sex                  0.150370      404.677665          542.264942\n",
       "2         cp                  0.084597      303.532644          305.073066\n",
       "3   trestbps                  0.016216      132.892250           58.477980\n",
       "4       chol                  0.000384       20.452310            1.385089\n",
       "5        fbs                  0.000281       17.500981            1.014187\n",
       "6    restecg                  0.000229       15.792096            0.825796\n",
       "7    thalach                  0.000100       10.427136            0.360017\n",
       "8      exang                  0.000077        9.170166            0.278450\n",
       "9    oldpeak                  0.000059        7.998271            0.211829\n",
       "10     slope                  0.000050        7.400842            0.181366\n",
       "11        ca                  0.000041        6.679602            0.147739\n",
       "12      thal                  0.000031        5.848861            0.113275"
      ]
     },
     "execution_count": 43,
     "metadata": {},
     "output_type": "execute_result"
    }
   ],
   "source": [
    "X = heart.drop(['target'], axis=1)\n",
    "\n",
    "pca = PCA()\n",
    "pca.fit(X)\n",
    "print(pca.explained_variance_ratio_)\n",
    "print(pca.singular_values_)\n",
    "print(pca.explained_variance_)\n",
    "\n",
    "result_df = pd.DataFrame(zip(heart.columns, pca.explained_variance_ratio_,pca.singular_values_,pca.explained_variance_), columns=['Variable', 'Variance Explained Ratio','Singular Value','Variance Explained'])\n",
    "result_df.sort_values('Variance Explained Ratio', inplace=True, ascending=False)\n",
    "result_df.head(20)"
   ]
  },
  {
   "cell_type": "markdown",
   "metadata": {},
   "source": [
    "### Selecting only the top 4 variables"
   ]
  },
  {
   "cell_type": "code",
   "execution_count": 48,
   "metadata": {},
   "outputs": [
    {
     "name": "stdout",
     "output_type": "stream",
     "text": [
      "Mean Absolute Error: 0.38162421435059324\n",
      "Mean Squared Error: 0.18253522437460765\n",
      "Root Mean Squared Error: 0.4272414122888928\n",
      "Explained Variance Score: 0.26019533021946895\n"
     ]
    }
   ],
   "source": [
    "X = heart[['age','sex','cp','trestbps']]\n",
    "y = heart['target']\n",
    "\n",
    "X_train,X_test, y_train, y_test = train_test_split(X, y, test_size=0.2, random_state=0)\n",
    "\n",
    "model = LinearRegression()\n",
    "model.fit(X_train,y_train)\n",
    "\n",
    "y_pred = model.predict(X_test)\n",
    "\n",
    "print('Mean Absolute Error:', metrics.mean_absolute_error(y_test, y_pred))  \n",
    "print('Mean Squared Error:', metrics.mean_squared_error(y_test, y_pred))  \n",
    "print('Root Mean Squared Error:', np.sqrt(metrics.mean_squared_error(y_test, y_pred)))\n",
    "print('Explained Variance Score:', explained_variance_score(y_test, y_pred, multioutput='uniform_average'))"
   ]
  },
  {
   "cell_type": "markdown",
   "metadata": {},
   "source": [
    "## Trying out some outlier removal techniques to improve the results"
   ]
  },
  {
   "cell_type": "markdown",
   "metadata": {},
   "source": [
    "### IsolationForest"
   ]
  },
  {
   "cell_type": "code",
   "execution_count": 75,
   "metadata": {},
   "outputs": [
    {
     "name": "stdout",
     "output_type": "stream",
     "text": [
      "Mean Absolute Error: 0.3740375865481862\n",
      "Mean Squared Error: 0.17966534010946378\n",
      "Root Mean Squared Error: 0.4238694847585325\n",
      "Explained Variance Score: 0.27180054865831293\n"
     ]
    }
   ],
   "source": [
    "from sklearn.ensemble import IsolationForest\n",
    "\n",
    "X = heart[['age','sex','cp','trestbps']]\n",
    "y = heart['target']\n",
    "\n",
    "X_train,X_test, y_train, y_test = train_test_split(X, y, test_size=0.2, random_state=0)\n",
    "\n",
    "\n",
    "iso = IsolationForest(contamination=0.1)\n",
    "yhat = iso.fit_predict(X_train)\n",
    "X_train = X_train[yhat!=-1].reset_index(drop=True)\n",
    "y_train = y_train[yhat!=-1].reset_index(drop=True)\n",
    "\n",
    "model = LinearRegression()\n",
    "model.fit(X_train,y_train)\n",
    "\n",
    "y_pred = model.predict(X_test)\n",
    "\n",
    "print('Mean Absolute Error:', metrics.mean_absolute_error(y_test, y_pred))  \n",
    "print('Mean Squared Error:', metrics.mean_squared_error(y_test, y_pred))  \n",
    "print('Root Mean Squared Error:', np.sqrt(metrics.mean_squared_error(y_test, y_pred)))\n",
    "print('Explained Variance Score:', explained_variance_score(y_test, y_pred, multioutput='uniform_average'))\n",
    "\n"
   ]
  },
  {
   "cell_type": "markdown",
   "metadata": {},
   "source": [
    "### EllipticEnvelope"
   ]
  },
  {
   "cell_type": "code",
   "execution_count": 81,
   "metadata": {},
   "outputs": [
    {
     "name": "stdout",
     "output_type": "stream",
     "text": [
      "Mean Absolute Error: 0.3821790225707704\n",
      "Mean Squared Error: 0.1826146745626652\n",
      "Root Mean Squared Error: 0.42733438261233464\n",
      "Explained Variance Score: 0.25985961719392303\n"
     ]
    }
   ],
   "source": [
    "from sklearn.covariance import EllipticEnvelope\n",
    "\n",
    "X = heart[['age','sex','cp','trestbps']]\n",
    "y = heart['target']\n",
    "\n",
    "X_train,X_test, y_train, y_test = train_test_split(X, y, test_size=0.2, random_state=0)\n",
    "\n",
    "ee = EllipticEnvelope(contamination=0.01)\n",
    "yhat = ee.fit_predict(X_train)\n",
    "\n",
    "X_train = X_train[yhat!=-1].reset_index(drop=True)\n",
    "y_train = y_train[yhat!=-1].reset_index(drop=True)\n",
    "\n",
    "model = LinearRegression()\n",
    "model.fit(X_train,y_train)\n",
    "\n",
    "y_pred = model.predict(X_test)\n",
    "\n",
    "print('Mean Absolute Error:', metrics.mean_absolute_error(y_test, y_pred))  \n",
    "print('Mean Squared Error:', metrics.mean_squared_error(y_test, y_pred))  \n",
    "print('Root Mean Squared Error:', np.sqrt(metrics.mean_squared_error(y_test, y_pred)))\n",
    "print('Explained Variance Score:', explained_variance_score(y_test, y_pred, multioutput='uniform_average'))\n",
    "\n"
   ]
  },
  {
   "cell_type": "markdown",
   "metadata": {},
   "source": [
    "### LocalOutlierFactor"
   ]
  },
  {
   "cell_type": "code",
   "execution_count": 84,
   "metadata": {},
   "outputs": [
    {
     "name": "stdout",
     "output_type": "stream",
     "text": [
      "Mean Absolute Error: 0.38243078992934726\n",
      "Mean Squared Error: 0.1827169037808292\n",
      "Root Mean Squared Error: 0.4274539785530475\n",
      "Explained Variance Score: 0.25946419801144327\n"
     ]
    }
   ],
   "source": [
    "from sklearn.covariance import EllipticEnvelope\n",
    "\n",
    "X = heart[['age','sex','cp','trestbps']]\n",
    "y = heart['target']\n",
    "\n",
    "X_train,X_test, y_train, y_test = train_test_split(X, y, test_size=0.2, random_state=0)\n",
    "\n",
    "lof = LocalOutlierFactor()\n",
    "yhat = lof.fit_predict(X_train)\n",
    "\n",
    "X_train = X_train[yhat!=-1].reset_index(drop=True)\n",
    "y_train = y_train[yhat!=-1].reset_index(drop=True)\n",
    "\n",
    "model = LinearRegression()\n",
    "model.fit(X_train,y_train)\n",
    "\n",
    "y_pred = model.predict(X_test)\n",
    "\n",
    "print('Mean Absolute Error:', metrics.mean_absolute_error(y_test, y_pred))  \n",
    "print('Mean Squared Error:', metrics.mean_squared_error(y_test, y_pred))  \n",
    "print('Root Mean Squared Error:', np.sqrt(metrics.mean_squared_error(y_test, y_pred)))\n",
    "print('Explained Variance Score:', explained_variance_score(y_test, y_pred, multioutput='uniform_average'))\n",
    "\n"
   ]
  },
  {
   "cell_type": "markdown",
   "metadata": {},
   "source": [
    "### OneClassSVM"
   ]
  },
  {
   "cell_type": "code",
   "execution_count": 85,
   "metadata": {},
   "outputs": [
    {
     "name": "stdout",
     "output_type": "stream",
     "text": [
      "Mean Absolute Error: 0.3806347254530158\n",
      "Mean Squared Error: 0.18710249144570715\n",
      "Root Mean Squared Error: 0.43255345501533926\n",
      "Explained Variance Score: 0.2421069898141972\n"
     ]
    }
   ],
   "source": [
    "from sklearn.svm import OneClassSVM\n",
    "\n",
    "X = heart[['age','sex','cp','trestbps']]\n",
    "y = heart['target']\n",
    "\n",
    "X_train,X_test, y_train, y_test = train_test_split(X, y, test_size=0.2, random_state=0)\n",
    "\n",
    "ocs = OneClassSVM()\n",
    "yhat = ocs.fit_predict(X_train)\n",
    "\n",
    "X_train = X_train[yhat!=-1].reset_index(drop=True)\n",
    "y_train = y_train[yhat!=-1].reset_index(drop=True)\n",
    "\n",
    "model = LinearRegression()\n",
    "model.fit(X_train,y_train)\n",
    "\n",
    "y_pred = model.predict(X_test)\n",
    "\n",
    "print('Mean Absolute Error:', metrics.mean_absolute_error(y_test, y_pred))  \n",
    "print('Mean Squared Error:', metrics.mean_squared_error(y_test, y_pred))  \n",
    "print('Root Mean Squared Error:', np.sqrt(metrics.mean_squared_error(y_test, y_pred)))\n",
    "print('Explained Variance Score:', explained_variance_score(y_test, y_pred, multioutput='uniform_average'))\n",
    "\n"
   ]
  },
  {
   "cell_type": "code",
   "execution_count": null,
   "metadata": {},
   "outputs": [],
   "source": []
  }
 ],
 "metadata": {
  "kernelspec": {
   "display_name": "Python 3.7.6 64-bit ('anaconda3': virtualenv)",
   "language": "python",
   "name": "python37664bitanaconda3virtualenv14f0be09cba74924b59e6e390c97b227"
  },
  "language_info": {
   "codemirror_mode": {
    "name": "ipython",
    "version": 3
   },
   "file_extension": ".py",
   "mimetype": "text/x-python",
   "name": "python",
   "nbconvert_exporter": "python",
   "pygments_lexer": "ipython3",
   "version": "3.7.6"
  }
 },
 "nbformat": 4,
 "nbformat_minor": 4
}
