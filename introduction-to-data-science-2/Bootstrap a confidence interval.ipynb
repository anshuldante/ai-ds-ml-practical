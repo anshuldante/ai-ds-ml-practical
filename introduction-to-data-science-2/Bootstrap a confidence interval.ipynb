{
 "cells": [
  {
   "cell_type": "code",
   "execution_count": 2,
   "metadata": {},
   "outputs": [],
   "source": [
    "import pandas as pd\n",
    "import matplotlib.pyplot as plt\n",
    "import seaborn as sn\n",
    "import numpy as np"
   ]
  },
  {
   "cell_type": "code",
   "execution_count": 3,
   "metadata": {},
   "outputs": [],
   "source": [
    "listings = pd.read_csv('Exercise Files/ChickWeight.csv')"
   ]
  },
  {
   "cell_type": "code",
   "execution_count": 5,
   "metadata": {},
   "outputs": [
    {
     "data": {
      "text/plain": [
       "['Unnamed: 0', 'weight', 'Time', 'Chick', 'Diet']"
      ]
     },
     "execution_count": 5,
     "metadata": {},
     "output_type": "execute_result"
    }
   ],
   "source": [
    "list(listings.columns)"
   ]
  },
  {
   "cell_type": "code",
   "execution_count": 9,
   "metadata": {},
   "outputs": [],
   "source": [
    "diet_1 = listings.loc[listings['Diet'] == 1, 'weight']\n",
    "diet_2 = listings.loc[listings['Diet'] == 2, 'weight']"
   ]
  },
  {
   "cell_type": "code",
   "execution_count": 10,
   "metadata": {},
   "outputs": [
    {
     "data": {
      "text/plain": [
       "0       42\n",
       "1       51\n",
       "2       59\n",
       "3       64\n",
       "4       76\n",
       "      ... \n",
       "215     89\n",
       "216     98\n",
       "217    107\n",
       "218    115\n",
       "219    117\n",
       "Name: weight, Length: 220, dtype: int64"
      ]
     },
     "execution_count": 10,
     "metadata": {},
     "output_type": "execute_result"
    }
   ],
   "source": [
    "diet_1"
   ]
  },
  {
   "cell_type": "code",
   "execution_count": 11,
   "metadata": {},
   "outputs": [
    {
     "data": {
      "text/plain": [
       "array([215,  54, 192,  73, 182,  42, 138, 103,  76, 123, 174, 199, 202,\n",
       "       102,  73, 117, 164,  71, 174,  45, 135,  74,  65,  51, 154, 113,\n",
       "        71,  92,  50,  63,  67, 205, 119,  88, 157, 199,  41,  97,  71,\n",
       "        42,  63,  71, 142,  81,  88, 162,  73,  49,  96,  59,  91,  42,\n",
       "       164,  67, 209, 160,  49,  72,  79,  47, 119, 144,  88,  84, 160,\n",
       "        51,  41,  59, 259, 112, 164,  71, 135,  41,  55,  43, 144,  41,\n",
       "       101, 187, 192, 248, 160,  88,  62,  76,  42,  43, 125, 248,  98,\n",
       "        43,  60, 199,  48, 288, 164,  68, 205,  71, 148, 163, 120,  68,\n",
       "       117,  59, 175,  65,  74, 160,  90, 177,  48,  70, 125, 113, 100,\n",
       "        63,  44, 202,  79, 149, 120,  41, 141,  53, 177,  65,  67, 101,\n",
       "        71, 184,  74,  41, 187, 187, 184,  45, 120, 192, 103,  68,  71,\n",
       "        47,  58,  64, 125, 162, 115,  98,  74,  41,  42,  54, 174,  84,\n",
       "        42, 101,  65,  41,  42,  93, 148,  65, 144,  48,  84, 250,  96,\n",
       "       144, 157,  53,  84,  52, 198,  84,  42,  72,  88,  51, 146, 138,\n",
       "       113,  68,  49,  57,  61, 174,  92, 101, 248, 117,  62,  49,  68,\n",
       "        70,  98,  51, 141,  96,  42,  77, 205, 125, 128, 162, 205,  42,\n",
       "       162, 133, 202,  54,  50, 266,  51,  51,  67, 100,  97,  41])"
      ]
     },
     "execution_count": 11,
     "metadata": {},
     "output_type": "execute_result"
    }
   ],
   "source": [
    "np.random.choice(diet_1, size = len(diet_1))"
   ]
  },
  {
   "cell_type": "code",
   "execution_count": 12,
   "metadata": {},
   "outputs": [
    {
     "data": {
      "text/plain": [
       "array([185,  58, 144,  85, 156, 187,  42, 233, 279,  39, 115, 124,  90,\n",
       "       114,  73,  40, 164, 163,  62,  62,  66,  98, 127, 150,  52, 170,\n",
       "       148,  86,  87,  68,  74, 309,  74,  59, 115,  41, 157, 145, 275,\n",
       "        58,  78,  50,  46, 185,  62,  57,  74, 279,  55,  72, 207, 125,\n",
       "       135, 111, 131, 125, 115, 150, 169,  48, 164, 307, 279, 144, 331,\n",
       "       169,  72,  86,  52, 156,  73,  86, 125, 307,  49, 146, 187,  59,\n",
       "       150,  58, 123, 212, 205, 124, 307, 102, 164,  85,  85, 231, 184,\n",
       "        92, 197,  85,  46,  58,  58,  76,  46, 114, 307, 100, 145,  76,\n",
       "       151,  68, 108, 134, 307, 124, 240, 187, 212,  39, 146,  68, 156,\n",
       "       169, 309,  86])"
      ]
     },
     "execution_count": 12,
     "metadata": {},
     "output_type": "execute_result"
    }
   ],
   "source": [
    "np.random.choice(diet_2, size = len(diet_2))"
   ]
  },
  {
   "cell_type": "code",
   "execution_count": 13,
   "metadata": {},
   "outputs": [],
   "source": [
    "def resample(orig_sample):\n",
    "    return np.random.choice(orig_sample, size = len(orig_sample))"
   ]
  },
  {
   "cell_type": "code",
   "execution_count": 14,
   "metadata": {},
   "outputs": [],
   "source": [
    "def bootstrap(orig_sample, reps):\n",
    "    means = np.array([])\n",
    "    \n",
    "    for i in range(reps):\n",
    "        new_sample = resample(orig_sample)\n",
    "        \n",
    "        new_mean = np.mean(new_sample)\n",
    "        \n",
    "        means = np.append(means, new_mean)\n",
    "        \n",
    "    return means"
   ]
  },
  {
   "cell_type": "code",
   "execution_count": 16,
   "metadata": {},
   "outputs": [],
   "source": [
    "diet_1_means = bootstrap(diet_1, 10000)\n",
    "\n",
    "diet_2_means = bootstrap(diet_2, 10000)\n",
    "\n",
    "estimates = diet_1_means - diet_2_means"
   ]
  },
  {
   "cell_type": "code",
   "execution_count": 17,
   "metadata": {},
   "outputs": [
    {
     "data": {
      "text/plain": [
       "array([-16.20606061, -14.15      , -27.14469697, ..., -22.80075758,\n",
       "       -31.71893939, -12.30606061])"
      ]
     },
     "execution_count": 17,
     "metadata": {},
     "output_type": "execute_result"
    }
   ],
   "source": [
    "estimates"
   ]
  },
  {
   "cell_type": "code",
   "execution_count": 19,
   "metadata": {},
   "outputs": [
    {
     "data": {
      "image/png": "[encoded data removed]",
      "text/plain": [
       "<Figure size 432x288 with 1 Axes>"
      ]
     },
     "metadata": {
      "needs_background": "light"
     },
     "output_type": "display_data"
    }
   ],
   "source": [
    "sn.distplot(estimates, kde = False)\n",
    "plt.show()"
   ]
  },
  {
   "cell_type": "code",
   "execution_count": 21,
   "metadata": {},
   "outputs": [
    {
     "data": {
      "text/plain": [
       "(-34.805871212121204, -5.3544886363636275)"
      ]
     },
     "execution_count": 21,
     "metadata": {},
     "output_type": "execute_result"
    }
   ],
   "source": [
    "(np.percentile(estimates, 2.5), np .percentile(estimates, 97.5))"
   ]
  },
  {
   "cell_type": "code",
   "execution_count": null,
   "metadata": {},
   "outputs": [],
   "source": []
  }
 ],
 "metadata": {
  "kernelspec": {
   "display_name": "Python 3",
   "language": "python",
   "name": "python3"
  },
  "language_info": {
   "codemirror_mode": {
    "name": "ipython",
    "version": 3
   },
   "file_extension": ".py",
   "mimetype": "text/x-python",
   "name": "python",
   "nbconvert_exporter": "python",
   "pygments_lexer": "ipython3",
   "version": "3.7.6"
  }
 },
 "nbformat": 4,
 "nbformat_minor": 4
}
