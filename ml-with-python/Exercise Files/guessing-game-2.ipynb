{
 "cells": [
  {
   "cell_type": "code",
   "execution_count": 1,
   "metadata": {},
   "outputs": [
    {
     "name": "stdin",
     "output_type": "stream",
     "text": [
      "Enter your guess:  45\n"
     ]
    },
    {
     "name": "stdout",
     "output_type": "stream",
     "text": [
      "Try a bigger number\n",
      "Lifes left =  4\n"
     ]
    },
    {
     "name": "stdin",
     "output_type": "stream",
     "text": [
      "Enter your guess:  34\n"
     ]
    },
    {
     "name": "stdout",
     "output_type": "stream",
     "text": [
      "Try a bigger number\n",
      "Lifes left =  3\n"
     ]
    },
    {
     "name": "stdin",
     "output_type": "stream",
     "text": [
      "Enter your guess:  23\n"
     ]
    },
    {
     "name": "stdout",
     "output_type": "stream",
     "text": [
      "Try a bigger number\n",
      "Lifes left =  2\n"
     ]
    },
    {
     "name": "stdin",
     "output_type": "stream",
     "text": [
      "Enter your guess:  12\n"
     ]
    },
    {
     "name": "stdout",
     "output_type": "stream",
     "text": [
      "Try a bigger number\n",
      "Lifes left =  1\n"
     ]
    },
    {
     "name": "stdin",
     "output_type": "stream",
     "text": [
      "Enter your guess:  67\n"
     ]
    },
    {
     "name": "stdout",
     "output_type": "stream",
     "text": [
      "Try a bigger number\n",
      "Lifes left =  0\n"
     ]
    }
   ],
   "source": [
    "import random\n",
    "guess = random.randint(1,1000)\n",
    "lifesleft = 5\n",
    "while lifesleft > 0:\n",
    "    user_guess = int(input(\"Enter your guess: \"))\n",
    "    if guess < user_guess:\n",
    "        print(\"Try a smaller number\")\n",
    "    elif guess > user_guess:\n",
    "        print(\"Try a bigger number\")\n",
    "    else:\n",
    "        print(\"You got it\")\n",
    "        break\n",
    "    lifesleft = lifesleft - 1\n",
    "    #lifesleft-=1\n",
    "    print(\"Lifes left = \", lifesleft)"
   ]
  },
  {
   "cell_type": "code",
   "execution_count": null,
   "metadata": {},
   "outputs": [],
   "source": []
  }
 ],
 "metadata": {
  "kernelspec": {
   "display_name": "Python 3",
   "language": "python",
   "name": "python3"
  },
  "language_info": {
   "codemirror_mode": {
    "name": "ipython",
    "version": 3
   },
   "file_extension": ".py",
   "mimetype": "text/x-python",
   "name": "python",
   "nbconvert_exporter": "python",
   "pygments_lexer": "ipython3",
   "version": "3.7.6"
  }
 },
 "nbformat": 4,
 "nbformat_minor": 4
}
