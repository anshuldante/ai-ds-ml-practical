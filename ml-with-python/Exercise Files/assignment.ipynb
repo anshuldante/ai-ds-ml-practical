{
 "cells": [
  {
   "cell_type": "code",
   "execution_count": 41,
   "metadata": {},
   "outputs": [],
   "source": [
    "#write a function to find the factorial of a number\n",
    "from math import factorial\n",
    "def fact(x):\n",
    "    return factorial(x)"
   ]
  },
  {
   "cell_type": "code",
   "execution_count": 45,
   "metadata": {},
   "outputs": [
    {
     "data": {
      "text/plain": [
       "120"
      ]
     },
     "execution_count": 45,
     "metadata": {},
     "output_type": "execute_result"
    }
   ],
   "source": [
    "def fact2(x):\n",
    "    factor = 1\n",
    "    for i in range(1,x+1):\n",
    "        factor*=i\n",
    "    return factor\n",
    "\n",
    "fact2(5)"
   ]
  },
  {
   "cell_type": "code",
   "execution_count": 46,
   "metadata": {},
   "outputs": [],
   "source": [
    "#create a random list of 10000 numbers (each number must be between 1 and 1000)\n",
    "import random\n",
    "numbers=[random.randint(1,1001) for x in range(10000)]"
   ]
  },
  {
   "cell_type": "code",
   "execution_count": 47,
   "metadata": {},
   "outputs": [],
   "source": [
    "#using map find their factorials\n",
    "numbers = list(map(lambda x:fact(x), numbers))"
   ]
  },
  {
   "cell_type": "code",
   "execution_count": 48,
   "metadata": {},
   "outputs": [],
   "source": [
    "#using filter remove all the factorials which have more than 50 digits\n",
    "numbers = list(filter(lambda x:len(str(x))<=50, numbers))"
   ]
  },
  {
   "cell_type": "code",
   "execution_count": 49,
   "metadata": {},
   "outputs": [
    {
     "data": {
      "text/plain": [
       "444903013068820700097094013924414793184890150407120"
      ]
     },
     "execution_count": 49,
     "metadata": {},
     "output_type": "execute_result"
    }
   ],
   "source": [
    "# using reduce find the sum of the remaining factorials\n",
    "from functools import reduce \n",
    "reduce(lambda a,b:a+b, numbers)"
   ]
  },
  {
   "cell_type": "code",
   "execution_count": 50,
   "metadata": {},
   "outputs": [],
   "source": [
    "# do all this in as less number of lines as possible"
   ]
  }
 ],
 "metadata": {
  "kernelspec": {
   "display_name": "Python 3",
   "language": "python",
   "name": "python3"
  },
  "language_info": {
   "codemirror_mode": {
    "name": "ipython",
    "version": 3
   },
   "file_extension": ".py",
   "mimetype": "text/x-python",
   "name": "python",
   "nbconvert_exporter": "python",
   "pygments_lexer": "ipython3",
   "version": "3.7.6"
  }
 },
 "nbformat": 4,
 "nbformat_minor": 4
}
